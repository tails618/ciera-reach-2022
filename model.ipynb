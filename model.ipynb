{
 "cells": [
  {
   "cell_type": "code",
   "execution_count": 2,
   "metadata": {},
   "outputs": [],
   "source": [
    "#import libraries\n",
    "import pandas as pd\n",
    "import numpy as np\n",
    "import matplotlib.pyplot as plt\n",
    "import math\n",
    "from matplotlib.ticker import (MultipleLocator, AutoMinorLocator)\n",
    "from sklearn.neighbors import KNeighborsClassifier\n",
    "from sklearn.model_selection import train_test_split\n",
    "from matplotlib.markers import MarkerStyle\n",
    "from sklearn.metrics import ConfusionMatrixDisplay"
   ]
  },
  {
   "cell_type": "code",
   "execution_count": 3,
   "metadata": {},
   "outputs": [],
   "source": [
    "# seen: train and val. unseen: test.\n",
    "d = pd.read_csv('data.csv')\n",
    "colnum = [7,9,10,11,14,15] #peakmag/duration/rise/fade/b/A_V\n",
    "data_seen, data_test, class_seen, class_test = train_test_split(d[d.columns[colnum]], d['class'], train_size = 0.9, random_state = 12345)\n",
    "data_train, data_val, class_train, class_val = train_test_split(data_seen, class_seen, train_size = 0.9, random_state = 12345)"
   ]
  },
  {
   "cell_type": "code",
   "execution_count": 4,
   "metadata": {},
   "outputs": [
    {
     "data": {
      "text/html": [
       "<style>#sk-container-id-1 {color: black;background-color: white;}#sk-container-id-1 pre{padding: 0;}#sk-container-id-1 div.sk-toggleable {background-color: white;}#sk-container-id-1 label.sk-toggleable__label {cursor: pointer;display: block;width: 100%;margin-bottom: 0;padding: 0.3em;box-sizing: border-box;text-align: center;}#sk-container-id-1 label.sk-toggleable__label-arrow:before {content: \"▸\";float: left;margin-right: 0.25em;color: #696969;}#sk-container-id-1 label.sk-toggleable__label-arrow:hover:before {color: black;}#sk-container-id-1 div.sk-estimator:hover label.sk-toggleable__label-arrow:before {color: black;}#sk-container-id-1 div.sk-toggleable__content {max-height: 0;max-width: 0;overflow: hidden;text-align: left;background-color: #f0f8ff;}#sk-container-id-1 div.sk-toggleable__content pre {margin: 0.2em;color: black;border-radius: 0.25em;background-color: #f0f8ff;}#sk-container-id-1 input.sk-toggleable__control:checked~div.sk-toggleable__content {max-height: 200px;max-width: 100%;overflow: auto;}#sk-container-id-1 input.sk-toggleable__control:checked~label.sk-toggleable__label-arrow:before {content: \"▾\";}#sk-container-id-1 div.sk-estimator input.sk-toggleable__control:checked~label.sk-toggleable__label {background-color: #d4ebff;}#sk-container-id-1 div.sk-label input.sk-toggleable__control:checked~label.sk-toggleable__label {background-color: #d4ebff;}#sk-container-id-1 input.sk-hidden--visually {border: 0;clip: rect(1px 1px 1px 1px);clip: rect(1px, 1px, 1px, 1px);height: 1px;margin: -1px;overflow: hidden;padding: 0;position: absolute;width: 1px;}#sk-container-id-1 div.sk-estimator {font-family: monospace;background-color: #f0f8ff;border: 1px dotted black;border-radius: 0.25em;box-sizing: border-box;margin-bottom: 0.5em;}#sk-container-id-1 div.sk-estimator:hover {background-color: #d4ebff;}#sk-container-id-1 div.sk-parallel-item::after {content: \"\";width: 100%;border-bottom: 1px solid gray;flex-grow: 1;}#sk-container-id-1 div.sk-label:hover label.sk-toggleable__label {background-color: #d4ebff;}#sk-container-id-1 div.sk-serial::before {content: \"\";position: absolute;border-left: 1px solid gray;box-sizing: border-box;top: 0;bottom: 0;left: 50%;z-index: 0;}#sk-container-id-1 div.sk-serial {display: flex;flex-direction: column;align-items: center;background-color: white;padding-right: 0.2em;padding-left: 0.2em;position: relative;}#sk-container-id-1 div.sk-item {position: relative;z-index: 1;}#sk-container-id-1 div.sk-parallel {display: flex;align-items: stretch;justify-content: center;background-color: white;position: relative;}#sk-container-id-1 div.sk-item::before, #sk-container-id-1 div.sk-parallel-item::before {content: \"\";position: absolute;border-left: 1px solid gray;box-sizing: border-box;top: 0;bottom: 0;left: 50%;z-index: -1;}#sk-container-id-1 div.sk-parallel-item {display: flex;flex-direction: column;z-index: 1;position: relative;background-color: white;}#sk-container-id-1 div.sk-parallel-item:first-child::after {align-self: flex-end;width: 50%;}#sk-container-id-1 div.sk-parallel-item:last-child::after {align-self: flex-start;width: 50%;}#sk-container-id-1 div.sk-parallel-item:only-child::after {width: 0;}#sk-container-id-1 div.sk-dashed-wrapped {border: 1px dashed gray;margin: 0 0.4em 0.5em 0.4em;box-sizing: border-box;padding-bottom: 0.4em;background-color: white;}#sk-container-id-1 div.sk-label label {font-family: monospace;font-weight: bold;display: inline-block;line-height: 1.2em;}#sk-container-id-1 div.sk-label-container {text-align: center;}#sk-container-id-1 div.sk-container {/* jupyter's `normalize.less` sets `[hidden] { display: none; }` but bootstrap.min.css set `[hidden] { display: none !important; }` so we also need the `!important` here to be able to override the default hidden behavior on the sphinx rendered scikit-learn.org. See: https://github.com/scikit-learn/scikit-learn/issues/21755 */display: inline-block !important;position: relative;}#sk-container-id-1 div.sk-text-repr-fallback {display: none;}</style><div id=\"sk-container-id-1\" class=\"sk-top-container\"><div class=\"sk-text-repr-fallback\"><pre>KNeighborsClassifier(n_neighbors=20)</pre><b>In a Jupyter environment, please rerun this cell to show the HTML representation or trust the notebook. <br />On GitHub, the HTML representation is unable to render, please try loading this page with nbviewer.org.</b></div><div class=\"sk-container\" hidden><div class=\"sk-item\"><div class=\"sk-estimator sk-toggleable\"><input class=\"sk-toggleable__control sk-hidden--visually\" id=\"sk-estimator-id-1\" type=\"checkbox\" checked><label for=\"sk-estimator-id-1\" class=\"sk-toggleable__label sk-toggleable__label-arrow\">KNeighborsClassifier</label><div class=\"sk-toggleable__content\"><pre>KNeighborsClassifier(n_neighbors=20)</pre></div></div></div></div></div>"
      ],
      "text/plain": [
       "KNeighborsClassifier(n_neighbors=20)"
      ]
     },
     "execution_count": 4,
     "metadata": {},
     "output_type": "execute_result"
    }
   ],
   "source": [
    "#set up model\n",
    "model = KNeighborsClassifier(n_neighbors = 20, weights = 'uniform', p = 2)\n",
    "model.fit(data_train, class_train)"
   ]
  },
  {
   "cell_type": "code",
   "execution_count": 5,
   "metadata": {},
   "outputs": [
    {
     "name": "stdout",
     "output_type": "stream",
     "text": [
      "414\n",
      "0.9366515837104072\n"
     ]
    }
   ],
   "source": [
    "#get number of correct classifications, probabilities\n",
    "probabilities = model.predict_proba(data_val)\n",
    "numcorrect = 0\n",
    "for index,row in enumerate(probabilities):\n",
    "    if row[1] >= 0.5 and class_val.to_numpy()[index] == 1:\n",
    "        numcorrect += 1\n",
    "    elif row[0] >= 0.5 and class_val.to_numpy()[index] == 0:\n",
    "        numcorrect += 1\n",
    "print(numcorrect)\n",
    "print(numcorrect / len(probabilities))"
   ]
  },
  {
   "cell_type": "code",
   "execution_count": 13,
   "metadata": {},
   "outputs": [
    {
     "name": "stdout",
     "output_type": "stream",
     "text": [
      "True positives: 355\n",
      "False positives: 25\n",
      "True negative: 58\n",
      "False negatives: 4\n",
      "Score: 0.9343891402714932\n",
      "Precision: 0.9342105263157895\n",
      "Recall: 0.9888579387186629\n"
     ]
    }
   ],
   "source": [
    "# calculate true/false positives/negatives, and keep track of incorrect classifications to do further analysis\n",
    "predictions = model.predict(data_val)\n",
    "tp, tn, fp, fn = 0, 0, 0, 0\n",
    "incorrect = []\n",
    "d = pd.read_csv('data.csv')\n",
    "c = class_val.to_numpy()\n",
    "for idx,p in enumerate(predictions):\n",
    "    if p == 1 and c[idx] == 1:\n",
    "        tp += 1\n",
    "    elif p == 1 and c[idx] == 0:\n",
    "        fp += 1\n",
    "        incorrect.append(d.loc[data_val.index[idx]])\n",
    "    elif p == 0 and c[idx] == 0:\n",
    "        tn += 1\n",
    "    elif p == 0 and c[idx] == 1:\n",
    "        fn += 1\n",
    "        incorrect.append(d.loc[data_val.index[idx]])\n",
    "print(f'True positives: {tp}\\nFalse positives: {fp}\\nTrue negative: {tn}\\nFalse negatives: {fn}')\n",
    "print(f'Score: {model.score(data_val, class_val)}')\n",
    "print(f'Precision: {tp/(tp+fp)}')\n",
    "print(f'Recall: {tp/(tp+fn)}')\n",
    "incorrectdf = pd.DataFrame(incorrect)"
   ]
  },
  {
   "cell_type": "code",
   "execution_count": 11,
   "metadata": {},
   "outputs": [
    {
     "name": "stdout",
     "output_type": "stream",
     "text": [
      "True positives: 399\n",
      "False positives: 22\n",
      "True negative: 63\n",
      "False negatives: 7\n",
      "Score: 0.9409368635437881\n",
      "Precision: 0.9477434679334917\n",
      "Recall: 0.9827586206896551\n"
     ]
    }
   ],
   "source": [
    "# calculate true/false positives/negatives\n",
    "predictions = model.predict(data_test)\n",
    "tp, tn, fp, fn = 0, 0, 0, 0\n",
    "c = class_test.to_numpy()\n",
    "for idx,p in enumerate(predictions):\n",
    "    if p == 1 and c[idx] == 1:\n",
    "        tp += 1\n",
    "    elif p == 1 and c[idx] == 0:\n",
    "        fp += 1\n",
    "    elif p == 0 and c[idx] == 0:\n",
    "        tn += 1\n",
    "    elif p == 0 and c[idx] == 1:\n",
    "        fn += 1\n",
    "print(f'True positives: {tp}\\nFalse positives: {fp}\\nTrue negative: {tn}\\nFalse negatives: {fn}')\n",
    "print(f'Score: {model.score(data_test, class_test)}')\n",
    "print(f'Precision: {tp/(tp+fp)}')\n",
    "print(f'Recall: {tp/(tp+fn)}')"
   ]
  },
  {
   "cell_type": "code",
   "execution_count": 14,
   "metadata": {},
   "outputs": [
    {
     "data": {
      "text/plain": [
       "4354    ZTF19aalzdfg\n",
       "4485    ZTF19abhvryy\n",
       "3318    ZTF21abrgbex\n",
       "4059    ZTF18abjrdjs\n",
       "4370    ZTF19aanneuv\n",
       "1637    ZTF20aamttiw\n",
       "3948    ZTF17aaaocpq\n",
       "4740    ZTF20abjapox\n",
       "4350    ZTF19aalfjvu\n",
       "2165    ZTF20acbnwyb\n",
       "4763    ZTF20abpwtmi\n",
       "4250    ZTF18acrhfbk\n",
       "4707    ZTF20aayukfo\n",
       "3965    ZTF18aaeauzu\n",
       "4709    ZTF20aazbbqo\n",
       "4111    ZTF18absdddn\n",
       "4051    ZTF18abfgtcf\n",
       "4035    ZTF18aaylbyr\n",
       "4382    ZTF19aaprdox\n",
       "4344    ZTF19aakswwb\n",
       "4145    ZTF18abujubn\n",
       "4237    ZTF18acgusct\n",
       "4114    ZTF18absgmhg\n",
       "4084    ZTF18abmjija\n",
       "1207    ZTF19acbzgog\n",
       "4008    ZTF18aaqlblz\n",
       "4192    ZTF18abzrsuh\n",
       "4628    ZTF19acrwxfn\n",
       "4046    ZTF18abcohew\n",
       "Name: ZTFID, dtype: object"
      ]
     },
     "execution_count": 14,
     "metadata": {},
     "output_type": "execute_result"
    }
   ],
   "source": [
    "# ZTF IDs for incorrect classifications\n",
    "incorrectdf.loc[:,'ZTFID']"
   ]
  },
  {
   "cell_type": "code",
   "execution_count": 17,
   "metadata": {},
   "outputs": [],
   "source": [
    "# Find best k value\n",
    "df = pd.DataFrame(columns=['k','accuracy'])\n",
    "for k in range(1,101):\n",
    "    model.set_params(n_neighbors = k)\n",
    "    model.fit(data_train, class_train)\n",
    "    df.loc[k,'k'] = k\n",
    "    df.loc[k,'accuracy'] = model.score(data_val,class_val)\n"
   ]
  },
  {
   "cell_type": "code",
   "execution_count": 18,
   "metadata": {},
   "outputs": [
    {
     "data": {
      "image/png": "[encoded data removed]",
      "text/plain": [
       "<Figure size 432x288 with 1 Axes>"
      ]
     },
     "metadata": {
      "needs_background": "light"
     },
     "output_type": "display_data"
    }
   ],
   "source": [
    "plt.scatter(df['k'], df['accuracy'])\n",
    "plt.xlabel('k')\n",
    "plt.ylabel('Accuracy')\n",
    "plt.title('Scatterplot of k vs accuracy for k of 1 to 100')\n",
    "plt.savefig('plots/k-accuracy.pdf')"
   ]
  },
  {
   "cell_type": "code",
   "execution_count": 18,
   "metadata": {},
   "outputs": [
    {
     "data": {
      "image/png": "[encoded data removed]",
      "text/plain": [
       "<Figure size 432x288 with 1 Axes>"
      ]
     },
     "metadata": {
      "needs_background": "light"
     },
     "output_type": "display_data"
    }
   ],
   "source": [
    "ConfusionMatrixDisplay.from_predictions(class_test, \n",
    "                                        model.predict(data_test), normalize='true', \n",
    "                                        display_labels=[\"Variables\", \"Transient\"], \n",
    "                                        cmap=plt.cm.Blues, colorbar=False)\n",
    "plt.title('Confusion Matrix of True Labels vs Predicted Labels')\n",
    "plt.savefig('plots/confusion_matrix.pdf', bbox_inches='tight')"
   ]
  }
 ],
 "metadata": {
  "kernelspec": {
   "display_name": "venv",
   "language": "python",
   "name": "python3"
  },
  "language_info": {
   "codemirror_mode": {
    "name": "ipython",
    "version": 3
   },
   "file_extension": ".py",
   "mimetype": "text/x-python",
   "name": "python",
   "nbconvert_exporter": "python",
   "pygments_lexer": "ipython3",
   "version": "3.10.7"
  },
  "orig_nbformat": 4,
  "vscode": {
   "interpreter": {
    "hash": "971128a3c59d5cf8c985ac7309fd5f48e0b3677c284928761e0d619fe82322e6"
   }
  }
 },
 "nbformat": 4,
 "nbformat_minor": 2
}
